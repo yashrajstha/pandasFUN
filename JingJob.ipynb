{
 "cells": [
  {
   "cell_type": "code",
   "execution_count": 83,
   "metadata": {
    "collapsed": true
   },
   "outputs": [],
   "source": [
    "import pandas as pd  # import pandas\n",
    "df = pd.read_csv('/Users/yashs/Desktop/Book4.csv')   #read csv"
   ]
  },
  {
   "cell_type": "code",
   "execution_count": 84,
   "metadata": {
    "collapsed": false
   },
   "outputs": [
    {
     "data": {
      "text/html": [
       "<div style=\"max-height:1000px;max-width:1500px;overflow:auto;\">\n",
       "<table border=\"1\" class=\"dataframe\">\n",
       "  <thead>\n",
       "    <tr style=\"text-align: right;\">\n",
       "      <th></th>\n",
       "      <th>index</th>\n",
       "      <th>order_date_time</th>\n",
       "      <th>orig_curr_net_amount</th>\n",
       "      <th>representative_key</th>\n",
       "    </tr>\n",
       "  </thead>\n",
       "  <tbody>\n",
       "    <tr>\n",
       "      <th>0</th>\n",
       "      <td>  0</td>\n",
       "      <td>  1.3868E+12</td>\n",
       "      <td>  6435</td>\n",
       "      <td> A001</td>\n",
       "    </tr>\n",
       "    <tr>\n",
       "      <th>1</th>\n",
       "      <td>  1</td>\n",
       "      <td>  1.3868E+12</td>\n",
       "      <td>  4331</td>\n",
       "      <td> A002</td>\n",
       "    </tr>\n",
       "    <tr>\n",
       "      <th>2</th>\n",
       "      <td>  2</td>\n",
       "      <td> 1.38663E+12</td>\n",
       "      <td>     0</td>\n",
       "      <td> A003</td>\n",
       "    </tr>\n",
       "    <tr>\n",
       "      <th>3</th>\n",
       "      <td>  3</td>\n",
       "      <td>  1.3868E+12</td>\n",
       "      <td> 15458</td>\n",
       "      <td> A002</td>\n",
       "    </tr>\n",
       "    <tr>\n",
       "      <th>4</th>\n",
       "      <td>NaN</td>\n",
       "      <td>         NaN</td>\n",
       "      <td>   NaN</td>\n",
       "      <td>  NaN</td>\n",
       "    </tr>\n",
       "    <tr>\n",
       "      <th>5</th>\n",
       "      <td>NaN</td>\n",
       "      <td>         NaN</td>\n",
       "      <td>   NaN</td>\n",
       "      <td>  NaN</td>\n",
       "    </tr>\n",
       "    <tr>\n",
       "      <th>6</th>\n",
       "      <td>NaN</td>\n",
       "      <td>         NaN</td>\n",
       "      <td>   NaN</td>\n",
       "      <td>  NaN</td>\n",
       "    </tr>\n",
       "    <tr>\n",
       "      <th>7</th>\n",
       "      <td>NaN</td>\n",
       "      <td>         NaN</td>\n",
       "      <td>   NaN</td>\n",
       "      <td>  NaN</td>\n",
       "    </tr>\n",
       "    <tr>\n",
       "      <th>8</th>\n",
       "      <td>NaN</td>\n",
       "      <td>         NaN</td>\n",
       "      <td>   NaN</td>\n",
       "      <td>  NaN</td>\n",
       "    </tr>\n",
       "    <tr>\n",
       "      <th>9</th>\n",
       "      <td>NaN</td>\n",
       "      <td>            </td>\n",
       "      <td>   NaN</td>\n",
       "      <td>  NaN</td>\n",
       "    </tr>\n",
       "  </tbody>\n",
       "</table>\n",
       "</div>"
      ],
      "text/plain": [
       "   index order_date_time  orig_curr_net_amount representative_key\n",
       "0      0      1.3868E+12                  6435               A001\n",
       "1      1      1.3868E+12                  4331               A002\n",
       "2      2     1.38663E+12                     0               A003\n",
       "3      3      1.3868E+12                 15458               A002\n",
       "4    NaN             NaN                   NaN                NaN\n",
       "5    NaN             NaN                   NaN                NaN\n",
       "6    NaN             NaN                   NaN                NaN\n",
       "7    NaN             NaN                   NaN                NaN\n",
       "8    NaN             NaN                   NaN                NaN\n",
       "9    NaN                                   NaN                NaN"
      ]
     },
     "execution_count": 84,
     "metadata": {},
     "output_type": "execute_result"
    }
   ],
   "source": [
    "df  #printdf"
   ]
  },
  {
   "cell_type": "code",
   "execution_count": 85,
   "metadata": {
    "collapsed": false
   },
   "outputs": [
    {
     "name": "stdout",
     "output_type": "stream",
     "text": [
      "1.3868E+12\n",
      "1.3868E+12\n",
      "1.38663E+12\n",
      "1.3868E+12\n"
     ]
    }
   ],
   "source": [
    "import datetime as dt\n",
    "df.your_time = df.order_date_time\n",
    "for i in range(0,4):   #change timestamp to date time object mind the range of for loop \n",
    "    print df.order_date_time[i]\n",
    "    \n",
    "    df.set_value(i, 'your_time', (dt.datetime.fromtimestamp(float(df.order_date_time[i]) / 1000)))\n"
   ]
  },
  {
   "cell_type": "code",
   "execution_count": 86,
   "metadata": {
    "collapsed": false
   },
   "outputs": [
    {
     "data": {
      "text/plain": [
       "<pandas.core.groupby.DataFrameGroupBy object at 0x106795c10>"
      ]
     },
     "execution_count": 86,
     "metadata": {},
     "output_type": "execute_result"
    }
   ],
   "source": [
    "df1 = df[:4]   #cut the dataframe so that NaN do not create problem \n",
    "df1.groupby([pd.Grouper(freq='1M',key='your_time'),'representative_key'])   # the double group by , first is for time .. change in freq, second is for the trader\n",
    "# check this for more hints http://pandas.pydata.org/pandas-docs/stable/groupby.html#grouping-with-a-grouper-specification"
   ]
  },
  {
   "cell_type": "code",
   "execution_count": 82,
   "metadata": {
    "collapsed": false
   },
   "outputs": [
    {
     "data": {
      "text/html": [
       "<div style=\"max-height:1000px;max-width:1500px;overflow:auto;\">\n",
       "<table border=\"1\" class=\"dataframe\">\n",
       "  <thead>\n",
       "    <tr style=\"text-align: right;\">\n",
       "      <th></th>\n",
       "      <th></th>\n",
       "      <th>index</th>\n",
       "      <th>orig_curr_net_amount</th>\n",
       "    </tr>\n",
       "    <tr>\n",
       "      <th>your_time</th>\n",
       "      <th>representative_key</th>\n",
       "      <th></th>\n",
       "      <th></th>\n",
       "    </tr>\n",
       "  </thead>\n",
       "  <tbody>\n",
       "    <tr>\n",
       "      <th rowspan=\"3\" valign=\"top\">2013-12-31</th>\n",
       "      <th>A001</th>\n",
       "      <td> 0</td>\n",
       "      <td>  6435</td>\n",
       "    </tr>\n",
       "    <tr>\n",
       "      <th>A002</th>\n",
       "      <td> 4</td>\n",
       "      <td> 19789</td>\n",
       "    </tr>\n",
       "    <tr>\n",
       "      <th>A003</th>\n",
       "      <td> 2</td>\n",
       "      <td>     0</td>\n",
       "    </tr>\n",
       "  </tbody>\n",
       "</table>\n",
       "</div>"
      ],
      "text/plain": [
       "                               index  orig_curr_net_amount\n",
       "your_time  representative_key                             \n",
       "2013-12-31 A001                    0                  6435\n",
       "           A002                    4                 19789\n",
       "           A003                    2                     0"
      ]
     },
     "execution_count": 82,
     "metadata": {},
     "output_type": "execute_result"
    }
   ],
   "source": [
    "df1.groupby([pd.Grouper(freq='1M',key='your_time'),'representative_key']).sum() # for sum of org curr net amount"
   ]
  },
  {
   "cell_type": "code",
   "execution_count": 87,
   "metadata": {
    "collapsed": false
   },
   "outputs": [
    {
     "data": {
      "text/html": [
       "<div style=\"max-height:1000px;max-width:1500px;overflow:auto;\">\n",
       "<table border=\"1\" class=\"dataframe\">\n",
       "  <thead>\n",
       "    <tr style=\"text-align: right;\">\n",
       "      <th></th>\n",
       "      <th></th>\n",
       "      <th>index</th>\n",
       "      <th>order_date_time</th>\n",
       "      <th>orig_curr_net_amount</th>\n",
       "      <th>your_time</th>\n",
       "    </tr>\n",
       "    <tr>\n",
       "      <th>your_time</th>\n",
       "      <th>representative_key</th>\n",
       "      <th></th>\n",
       "      <th></th>\n",
       "      <th></th>\n",
       "      <th></th>\n",
       "    </tr>\n",
       "  </thead>\n",
       "  <tbody>\n",
       "    <tr>\n",
       "      <th rowspan=\"3\" valign=\"top\">2013-12-31</th>\n",
       "      <th>A001</th>\n",
       "      <td> 1</td>\n",
       "      <td> 1</td>\n",
       "      <td> 1</td>\n",
       "      <td> 1</td>\n",
       "    </tr>\n",
       "    <tr>\n",
       "      <th>A002</th>\n",
       "      <td> 2</td>\n",
       "      <td> 2</td>\n",
       "      <td> 2</td>\n",
       "      <td> 2</td>\n",
       "    </tr>\n",
       "    <tr>\n",
       "      <th>A003</th>\n",
       "      <td> 1</td>\n",
       "      <td> 1</td>\n",
       "      <td> 1</td>\n",
       "      <td> 1</td>\n",
       "    </tr>\n",
       "  </tbody>\n",
       "</table>\n",
       "</div>"
      ],
      "text/plain": [
       "                               index  order_date_time  orig_curr_net_amount  \\\n",
       "your_time  representative_key                                                 \n",
       "2013-12-31 A001                    1                1                     1   \n",
       "           A002                    2                2                     2   \n",
       "           A003                    1                1                     1   \n",
       "\n",
       "                               your_time  \n",
       "your_time  representative_key             \n",
       "2013-12-31 A001                        1  \n",
       "           A002                        2  \n",
       "           A003                        1  "
      ]
     },
     "execution_count": 87,
     "metadata": {},
     "output_type": "execute_result"
    }
   ],
   "source": [
    "df1.groupby([pd.Grouper(freq='1M',key='your_time'),'representative_key']).count() # for count of org curr net amount"
   ]
  },
  {
   "cell_type": "code",
   "execution_count": 88,
   "metadata": {
    "collapsed": true
   },
   "outputs": [],
   "source": [
    "my_grouped = df1.groupby([pd.Grouper(freq='1M',key='your_time'),'representative_key']).count() # for count of org curr net amount"
   ]
  },
  {
   "cell_type": "code",
   "execution_count": null,
   "metadata": {
    "collapsed": true
   },
   "outputs": [],
   "source": [
    "my_grouped['ori'] "
   ]
  }
 ],
 "metadata": {
  "kernelspec": {
   "display_name": "Python 2",
   "language": "python",
   "name": "python2"
  },
  "language_info": {
   "codemirror_mode": {
    "name": "ipython",
    "version": 2
   },
   "file_extension": ".py",
   "mimetype": "text/x-python",
   "name": "python",
   "nbconvert_exporter": "python",
   "pygments_lexer": "ipython2",
   "version": "2.7.12"
  }
 },
 "nbformat": 4,
 "nbformat_minor": 1
}
