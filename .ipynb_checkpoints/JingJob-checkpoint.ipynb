{
 "cells": [
  {
   "cell_type": "code",
   "execution_count": 3,
   "metadata": {
    "collapsed": false
   },
   "outputs": [],
   "source": [
    "import pandas as pd  # import pandas\n",
    "df = pd.read_csv('/Users/yashs/Documents/pandasFUN/Book4.csv')   #read csv"
   ]
  },
  {
   "cell_type": "code",
   "execution_count": 4,
   "metadata": {
    "collapsed": false
   },
   "outputs": [
    {
     "data": {
      "text/html": [
       "<div style=\"max-height:1000px;max-width:1500px;overflow:auto;\">\n",
       "<table border=\"1\" class=\"dataframe\">\n",
       "  <thead>\n",
       "    <tr style=\"text-align: right;\">\n",
       "      <th></th>\n",
       "      <th>index</th>\n",
       "      <th>order_date_time</th>\n",
       "      <th>orig_curr_net_amount</th>\n",
       "      <th>representative_key</th>\n",
       "    </tr>\n",
       "  </thead>\n",
       "  <tbody>\n",
       "    <tr>\n",
       "      <th>0</th>\n",
       "      <td>  0</td>\n",
       "      <td>  1.3868E+12</td>\n",
       "      <td>  6435</td>\n",
       "      <td> A001</td>\n",
       "    </tr>\n",
       "    <tr>\n",
       "      <th>1</th>\n",
       "      <td>  1</td>\n",
       "      <td>  1.3868E+12</td>\n",
       "      <td>  4331</td>\n",
       "      <td> A002</td>\n",
       "    </tr>\n",
       "    <tr>\n",
       "      <th>2</th>\n",
       "      <td>  2</td>\n",
       "      <td> 1.38663E+12</td>\n",
       "      <td>     0</td>\n",
       "      <td> A003</td>\n",
       "    </tr>\n",
       "    <tr>\n",
       "      <th>3</th>\n",
       "      <td>  3</td>\n",
       "      <td>  1.3868E+12</td>\n",
       "      <td> 15458</td>\n",
       "      <td> A002</td>\n",
       "    </tr>\n",
       "    <tr>\n",
       "      <th>4</th>\n",
       "      <td>NaN</td>\n",
       "      <td>         NaN</td>\n",
       "      <td>   NaN</td>\n",
       "      <td>  NaN</td>\n",
       "    </tr>\n",
       "    <tr>\n",
       "      <th>5</th>\n",
       "      <td>NaN</td>\n",
       "      <td>         NaN</td>\n",
       "      <td>   NaN</td>\n",
       "      <td>  NaN</td>\n",
       "    </tr>\n",
       "    <tr>\n",
       "      <th>6</th>\n",
       "      <td>NaN</td>\n",
       "      <td>         NaN</td>\n",
       "      <td>   NaN</td>\n",
       "      <td>  NaN</td>\n",
       "    </tr>\n",
       "    <tr>\n",
       "      <th>7</th>\n",
       "      <td>NaN</td>\n",
       "      <td>         NaN</td>\n",
       "      <td>   NaN</td>\n",
       "      <td>  NaN</td>\n",
       "    </tr>\n",
       "    <tr>\n",
       "      <th>8</th>\n",
       "      <td>NaN</td>\n",
       "      <td>         NaN</td>\n",
       "      <td>   NaN</td>\n",
       "      <td>  NaN</td>\n",
       "    </tr>\n",
       "    <tr>\n",
       "      <th>9</th>\n",
       "      <td>NaN</td>\n",
       "      <td>            </td>\n",
       "      <td>   NaN</td>\n",
       "      <td>  NaN</td>\n",
       "    </tr>\n",
       "  </tbody>\n",
       "</table>\n",
       "</div>"
      ],
      "text/plain": [
       "   index order_date_time  orig_curr_net_amount representative_key\n",
       "0      0      1.3868E+12                  6435               A001\n",
       "1      1      1.3868E+12                  4331               A002\n",
       "2      2     1.38663E+12                     0               A003\n",
       "3      3      1.3868E+12                 15458               A002\n",
       "4    NaN             NaN                   NaN                NaN\n",
       "5    NaN             NaN                   NaN                NaN\n",
       "6    NaN             NaN                   NaN                NaN\n",
       "7    NaN             NaN                   NaN                NaN\n",
       "8    NaN             NaN                   NaN                NaN\n",
       "9    NaN                                   NaN                NaN"
      ]
     },
     "execution_count": 4,
     "metadata": {},
     "output_type": "execute_result"
    }
   ],
   "source": [
    "df  #printdf"
   ]
  },
  {
   "cell_type": "code",
   "execution_count": 5,
   "metadata": {
    "collapsed": false
   },
   "outputs": [
    {
     "name": "stdout",
     "output_type": "stream",
     "text": [
      "1.3868E+12\n",
      "1.3868E+12\n",
      "1.38663E+12\n",
      "1.3868E+12\n"
     ]
    }
   ],
   "source": [
    "import datetime as dt\n",
    "df.your_time = df.order_date_time\n",
    "for i in range(0,4):   #change timestamp to date time object mind the range of for loop \n",
    "    print df.order_date_time[i]\n",
    "    \n",
    "    df.set_value(i, 'your_time', (dt.datetime.fromtimestamp(float(df.order_date_time[i]) / 1000)))\n"
   ]
  },
  {
   "cell_type": "code",
   "execution_count": 6,
   "metadata": {
    "collapsed": false
   },
   "outputs": [
    {
     "data": {
      "text/plain": [
       "0     1.3868E+12\n",
       "1     1.3868E+12\n",
       "2    1.38663E+12\n",
       "3     1.3868E+12\n",
       "4            NaN\n",
       "5            NaN\n",
       "6            NaN\n",
       "7            NaN\n",
       "8            NaN\n",
       "9               \n",
       "Name: order_date_time, dtype: object"
      ]
     },
     "execution_count": 6,
     "metadata": {},
     "output_type": "execute_result"
    }
   ],
   "source": [
    "df.your_time"
   ]
  },
  {
   "cell_type": "markdown",
   "metadata": {},
   "source": [
    "## check this for more hints http://pandas.pydata.org/pandas-docs/stable/groupby.html#grouping-with-a-grouper-specification"
   ]
  },
  {
   "cell_type": "code",
   "execution_count": 7,
   "metadata": {
    "collapsed": false
   },
   "outputs": [
    {
     "data": {
      "text/plain": [
       "<pandas.core.groupby.DataFrameGroupBy object at 0x106020f10>"
      ]
     },
     "execution_count": 7,
     "metadata": {},
     "output_type": "execute_result"
    }
   ],
   "source": [
    "df1 = df[:4]   #cut the dataframe so that NaN do not create problem \n",
    "df1.groupby([pd.Grouper(freq='1M',key='your_time'),'representative_key'])   # the double group by , first is for time .. change in freq, second is for the trader\n"
   ]
  },
  {
   "cell_type": "code",
   "execution_count": 8,
   "metadata": {
    "collapsed": false
   },
   "outputs": [
    {
     "data": {
      "text/html": [
       "<div style=\"max-height:1000px;max-width:1500px;overflow:auto;\">\n",
       "<table border=\"1\" class=\"dataframe\">\n",
       "  <thead>\n",
       "    <tr style=\"text-align: right;\">\n",
       "      <th></th>\n",
       "      <th></th>\n",
       "      <th>index</th>\n",
       "      <th>orig_curr_net_amount</th>\n",
       "    </tr>\n",
       "    <tr>\n",
       "      <th>your_time</th>\n",
       "      <th>representative_key</th>\n",
       "      <th></th>\n",
       "      <th></th>\n",
       "    </tr>\n",
       "  </thead>\n",
       "  <tbody>\n",
       "    <tr>\n",
       "      <th rowspan=\"3\" valign=\"top\">2013-12-31</th>\n",
       "      <th>A001</th>\n",
       "      <td> 0</td>\n",
       "      <td>  6435</td>\n",
       "    </tr>\n",
       "    <tr>\n",
       "      <th>A002</th>\n",
       "      <td> 4</td>\n",
       "      <td> 19789</td>\n",
       "    </tr>\n",
       "    <tr>\n",
       "      <th>A003</th>\n",
       "      <td> 2</td>\n",
       "      <td>     0</td>\n",
       "    </tr>\n",
       "  </tbody>\n",
       "</table>\n",
       "</div>"
      ],
      "text/plain": [
       "                               index  orig_curr_net_amount\n",
       "your_time  representative_key                             \n",
       "2013-12-31 A001                    0                  6435\n",
       "           A002                    4                 19789\n",
       "           A003                    2                     0"
      ]
     },
     "execution_count": 8,
     "metadata": {},
     "output_type": "execute_result"
    }
   ],
   "source": [
    "df1.groupby([pd.Grouper(freq='1M',key='your_time'),'representative_key']).sum() # for sum of org curr net amount"
   ]
  },
  {
   "cell_type": "code",
   "execution_count": 9,
   "metadata": {
    "collapsed": false
   },
   "outputs": [
    {
     "data": {
      "text/html": [
       "<div style=\"max-height:1000px;max-width:1500px;overflow:auto;\">\n",
       "<table border=\"1\" class=\"dataframe\">\n",
       "  <thead>\n",
       "    <tr style=\"text-align: right;\">\n",
       "      <th></th>\n",
       "      <th></th>\n",
       "      <th>index</th>\n",
       "      <th>order_date_time</th>\n",
       "      <th>orig_curr_net_amount</th>\n",
       "      <th>your_time</th>\n",
       "    </tr>\n",
       "    <tr>\n",
       "      <th>your_time</th>\n",
       "      <th>representative_key</th>\n",
       "      <th></th>\n",
       "      <th></th>\n",
       "      <th></th>\n",
       "      <th></th>\n",
       "    </tr>\n",
       "  </thead>\n",
       "  <tbody>\n",
       "    <tr>\n",
       "      <th rowspan=\"3\" valign=\"top\">2013-12-31</th>\n",
       "      <th>A001</th>\n",
       "      <td> 1</td>\n",
       "      <td> 1</td>\n",
       "      <td> 1</td>\n",
       "      <td> 1</td>\n",
       "    </tr>\n",
       "    <tr>\n",
       "      <th>A002</th>\n",
       "      <td> 2</td>\n",
       "      <td> 2</td>\n",
       "      <td> 2</td>\n",
       "      <td> 2</td>\n",
       "    </tr>\n",
       "    <tr>\n",
       "      <th>A003</th>\n",
       "      <td> 1</td>\n",
       "      <td> 1</td>\n",
       "      <td> 1</td>\n",
       "      <td> 1</td>\n",
       "    </tr>\n",
       "  </tbody>\n",
       "</table>\n",
       "</div>"
      ],
      "text/plain": [
       "                               index  order_date_time  orig_curr_net_amount  \\\n",
       "your_time  representative_key                                                 \n",
       "2013-12-31 A001                    1                1                     1   \n",
       "           A002                    2                2                     2   \n",
       "           A003                    1                1                     1   \n",
       "\n",
       "                               your_time  \n",
       "your_time  representative_key             \n",
       "2013-12-31 A001                        1  \n",
       "           A002                        2  \n",
       "           A003                        1  "
      ]
     },
     "execution_count": 9,
     "metadata": {},
     "output_type": "execute_result"
    }
   ],
   "source": [
    "df1.groupby([pd.Grouper(freq='1M',key='your_time'),'representative_key']).count() # for count of org curr net amount"
   ]
  },
  {
   "cell_type": "code",
   "execution_count": 10,
   "metadata": {
    "collapsed": true
   },
   "outputs": [],
   "source": [
    "my_grouped = df1.groupby([pd.Grouper(freq='1M',key='your_time'),'representative_key']).count() # for count of org curr net amount"
   ]
  },
  {
   "cell_type": "code",
   "execution_count": 11,
   "metadata": {
    "collapsed": false
   },
   "outputs": [
    {
     "data": {
      "text/html": [
       "<div style=\"max-height:1000px;max-width:1500px;overflow:auto;\">\n",
       "<table border=\"1\" class=\"dataframe\">\n",
       "  <thead>\n",
       "    <tr style=\"text-align: right;\">\n",
       "      <th></th>\n",
       "      <th></th>\n",
       "      <th>index</th>\n",
       "      <th>orig_curr_net_amount</th>\n",
       "    </tr>\n",
       "    <tr>\n",
       "      <th>your_time</th>\n",
       "      <th>representative_key</th>\n",
       "      <th></th>\n",
       "      <th></th>\n",
       "    </tr>\n",
       "  </thead>\n",
       "  <tbody>\n",
       "    <tr>\n",
       "      <th rowspan=\"3\" valign=\"top\">2013-12-31</th>\n",
       "      <th>A001</th>\n",
       "      <td> False</td>\n",
       "      <td>  True</td>\n",
       "    </tr>\n",
       "    <tr>\n",
       "      <th>A002</th>\n",
       "      <td> False</td>\n",
       "      <td>  True</td>\n",
       "    </tr>\n",
       "    <tr>\n",
       "      <th>A003</th>\n",
       "      <td> False</td>\n",
       "      <td> False</td>\n",
       "    </tr>\n",
       "  </tbody>\n",
       "</table>\n",
       "</div>"
      ],
      "text/plain": [
       "                               index orig_curr_net_amount\n",
       "your_time  representative_key                            \n",
       "2013-12-31 A001                False                 True\n",
       "           A002                False                 True\n",
       "           A003                False                False"
      ]
     },
     "execution_count": 11,
     "metadata": {},
     "output_type": "execute_result"
    }
   ],
   "source": [
    "df1.groupby([pd.Grouper(freq='1M',key='your_time'),'representative_key']).sum() > 100 # sum for month\n",
    "\n"
   ]
  },
  {
   "cell_type": "code",
   "execution_count": 75,
   "metadata": {
    "collapsed": false
   },
   "outputs": [
    {
     "data": {
      "text/html": [
       "<div style=\"max-height:1000px;max-width:1500px;overflow:auto;\">\n",
       "<table border=\"1\" class=\"dataframe\">\n",
       "  <thead>\n",
       "    <tr style=\"text-align: right;\">\n",
       "      <th></th>\n",
       "      <th></th>\n",
       "      <th>index</th>\n",
       "      <th>orig_curr_net_amount</th>\n",
       "    </tr>\n",
       "    <tr>\n",
       "      <th>your_time</th>\n",
       "      <th>representative_key</th>\n",
       "      <th></th>\n",
       "      <th></th>\n",
       "    </tr>\n",
       "  </thead>\n",
       "  <tbody>\n",
       "    <tr>\n",
       "      <th rowspan=\"3\" valign=\"top\">2013-12-15</th>\n",
       "      <th>A001</th>\n",
       "      <td> False</td>\n",
       "      <td>  True</td>\n",
       "    </tr>\n",
       "    <tr>\n",
       "      <th>A002</th>\n",
       "      <td> False</td>\n",
       "      <td>  True</td>\n",
       "    </tr>\n",
       "    <tr>\n",
       "      <th>A003</th>\n",
       "      <td> False</td>\n",
       "      <td> False</td>\n",
       "    </tr>\n",
       "  </tbody>\n",
       "</table>\n",
       "</div>"
      ],
      "text/plain": [
       "                               index orig_curr_net_amount\n",
       "your_time  representative_key                            \n",
       "2013-12-15 A001                False                 True\n",
       "           A002                False                 True\n",
       "           A003                False                False"
      ]
     },
     "execution_count": 75,
     "metadata": {},
     "output_type": "execute_result"
    }
   ],
   "source": [
    "df1.groupby([pd.Grouper(freq='1W',key='your_time'),'representative_key']).sum() > 100 # sum for week"
   ]
  },
  {
   "cell_type": "code",
   "execution_count": 76,
   "metadata": {
    "collapsed": false
   },
   "outputs": [
    {
     "data": {
      "text/html": [
       "<div style=\"max-height:1000px;max-width:1500px;overflow:auto;\">\n",
       "<table border=\"1\" class=\"dataframe\">\n",
       "  <thead>\n",
       "    <tr style=\"text-align: right;\">\n",
       "      <th></th>\n",
       "      <th></th>\n",
       "      <th>index</th>\n",
       "      <th>orig_curr_net_amount</th>\n",
       "    </tr>\n",
       "    <tr>\n",
       "      <th>your_time</th>\n",
       "      <th>representative_key</th>\n",
       "      <th></th>\n",
       "      <th></th>\n",
       "    </tr>\n",
       "  </thead>\n",
       "  <tbody>\n",
       "    <tr>\n",
       "      <th>2013-12-10 00:00:00</th>\n",
       "      <th>A003</th>\n",
       "      <td> False</td>\n",
       "      <td> False</td>\n",
       "    </tr>\n",
       "    <tr>\n",
       "      <th rowspan=\"2\" valign=\"top\">2013-12-11 23:00:00</th>\n",
       "      <th>A001</th>\n",
       "      <td> False</td>\n",
       "      <td>  True</td>\n",
       "    </tr>\n",
       "    <tr>\n",
       "      <th>A002</th>\n",
       "      <td> False</td>\n",
       "      <td>  True</td>\n",
       "    </tr>\n",
       "  </tbody>\n",
       "</table>\n",
       "</div>"
      ],
      "text/plain": [
       "                                        index orig_curr_net_amount\n",
       "your_time           representative_key                            \n",
       "2013-12-10 00:00:00 A003                False                False\n",
       "2013-12-11 23:00:00 A001                False                 True\n",
       "                    A002                False                 True"
      ]
     },
     "execution_count": 76,
     "metadata": {},
     "output_type": "execute_result"
    }
   ],
   "source": [
    "df1.groupby([pd.Grouper(freq='1H',key='your_time'),'representative_key']).sum() > 100 # sum for Day"
   ]
  },
  {
   "cell_type": "markdown",
   "metadata": {},
   "source": [
    "## change change the freq with alias see here \n",
    "\n",
    "http://pandas.pydata.org/pandas-docs/stable/timeseries.html#offset-aliases"
   ]
  },
  {
   "cell_type": "code",
   "execution_count": 77,
   "metadata": {
    "collapsed": false
   },
   "outputs": [
    {
     "data": {
      "text/html": [
       "<div style=\"max-height:1000px;max-width:1500px;overflow:auto;\">\n",
       "<table border=\"1\" class=\"dataframe\">\n",
       "  <thead>\n",
       "    <tr style=\"text-align: right;\">\n",
       "      <th></th>\n",
       "      <th></th>\n",
       "      <th>index</th>\n",
       "      <th>orig_curr_net_amount</th>\n",
       "    </tr>\n",
       "    <tr>\n",
       "      <th>your_time</th>\n",
       "      <th>representative_key</th>\n",
       "      <th></th>\n",
       "      <th></th>\n",
       "    </tr>\n",
       "  </thead>\n",
       "  <tbody>\n",
       "    <tr>\n",
       "      <th>2013-12-10</th>\n",
       "      <th>A003</th>\n",
       "      <td> False</td>\n",
       "      <td> False</td>\n",
       "    </tr>\n",
       "    <tr>\n",
       "      <th rowspan=\"2\" valign=\"top\">2013-12-11</th>\n",
       "      <th>A001</th>\n",
       "      <td> False</td>\n",
       "      <td>  True</td>\n",
       "    </tr>\n",
       "    <tr>\n",
       "      <th>A002</th>\n",
       "      <td> False</td>\n",
       "      <td>  True</td>\n",
       "    </tr>\n",
       "  </tbody>\n",
       "</table>\n",
       "</div>"
      ],
      "text/plain": [
       "                               index orig_curr_net_amount\n",
       "your_time  representative_key                            \n",
       "2013-12-10 A003                False                False\n",
       "2013-12-11 A001                False                 True\n",
       "           A002                False                 True"
      ]
     },
     "execution_count": 77,
     "metadata": {},
     "output_type": "execute_result"
    }
   ],
   "source": [
    "\n",
    "    \n",
    "df2 = df1.groupby([pd.Grouper(freq='D',key='your_time'),'representative_key']).sum() > 100 # sum for Day\n",
    "df2"
   ]
  },
  {
   "cell_type": "code",
   "execution_count": 78,
   "metadata": {
    "collapsed": false
   },
   "outputs": [
    {
     "data": {
      "text/html": [
       "<div style=\"max-height:1000px;max-width:1500px;overflow:auto;\">\n",
       "<table border=\"1\" class=\"dataframe\">\n",
       "  <thead>\n",
       "    <tr style=\"text-align: right;\">\n",
       "      <th></th>\n",
       "      <th></th>\n",
       "      <th>index</th>\n",
       "      <th>order_date_time</th>\n",
       "      <th>orig_curr_net_amount</th>\n",
       "      <th>your_time</th>\n",
       "    </tr>\n",
       "    <tr>\n",
       "      <th>representative_key</th>\n",
       "      <th>your_time</th>\n",
       "      <th></th>\n",
       "      <th></th>\n",
       "      <th></th>\n",
       "      <th></th>\n",
       "    </tr>\n",
       "  </thead>\n",
       "  <tbody>\n",
       "    <tr>\n",
       "      <th>A001</th>\n",
       "      <th>2013-12-11 23:13:00</th>\n",
       "      <td> 1</td>\n",
       "      <td> 1</td>\n",
       "      <td> 1</td>\n",
       "      <td> 1</td>\n",
       "    </tr>\n",
       "    <tr>\n",
       "      <th>A002</th>\n",
       "      <th>2013-12-11 23:13:00</th>\n",
       "      <td> 2</td>\n",
       "      <td> 2</td>\n",
       "      <td> 2</td>\n",
       "      <td> 2</td>\n",
       "    </tr>\n",
       "    <tr>\n",
       "      <th>A003</th>\n",
       "      <th>2013-12-10 00:00:00</th>\n",
       "      <td> 1</td>\n",
       "      <td> 1</td>\n",
       "      <td> 1</td>\n",
       "      <td> 1</td>\n",
       "    </tr>\n",
       "  </tbody>\n",
       "</table>\n",
       "</div>"
      ],
      "text/plain": [
       "                                        index  order_date_time  \\\n",
       "representative_key your_time                                     \n",
       "A001               2013-12-11 23:13:00      1                1   \n",
       "A002               2013-12-11 23:13:00      2                2   \n",
       "A003               2013-12-10 00:00:00      1                1   \n",
       "\n",
       "                                        orig_curr_net_amount  your_time  \n",
       "representative_key your_time                                             \n",
       "A001               2013-12-11 23:13:00                     1          1  \n",
       "A002               2013-12-11 23:13:00                     2          2  \n",
       "A003               2013-12-10 00:00:00                     1          1  "
      ]
     },
     "execution_count": 78,
     "metadata": {},
     "output_type": "execute_result"
    }
   ],
   "source": [
    "df1.groupby(['representative_key',pd.Grouper(freq='min',key='your_time')]).count()  \n",
    " "
   ]
  },
  {
   "cell_type": "markdown",
   "metadata": {},
   "source": [
    "## More alias to change frequency http://pandas.pydata.org/pandas-docs/stable/timeseries.html#offset-aliases"
   ]
  },
  {
   "cell_type": "code",
   "execution_count": 80,
   "metadata": {
    "collapsed": false
   },
   "outputs": [
    {
     "data": {
      "text/html": [
       "<div style=\"max-height:1000px;max-width:1500px;overflow:auto;\">\n",
       "<table border=\"1\" class=\"dataframe\">\n",
       "  <thead>\n",
       "    <tr style=\"text-align: right;\">\n",
       "      <th></th>\n",
       "      <th></th>\n",
       "      <th>index</th>\n",
       "      <th>orig_curr_net_amount</th>\n",
       "    </tr>\n",
       "    <tr>\n",
       "      <th>representative_key</th>\n",
       "      <th>your_time</th>\n",
       "      <th></th>\n",
       "      <th></th>\n",
       "    </tr>\n",
       "  </thead>\n",
       "  <tbody>\n",
       "    <tr>\n",
       "      <th>A001</th>\n",
       "      <th>2013-12-11 23:13:00</th>\n",
       "      <td> 0</td>\n",
       "      <td>  6435</td>\n",
       "    </tr>\n",
       "    <tr>\n",
       "      <th>A002</th>\n",
       "      <th>2013-12-11 23:13:00</th>\n",
       "      <td> 4</td>\n",
       "      <td> 19789</td>\n",
       "    </tr>\n",
       "    <tr>\n",
       "      <th>A003</th>\n",
       "      <th>2013-12-10 00:00:00</th>\n",
       "      <td> 2</td>\n",
       "      <td>     0</td>\n",
       "    </tr>\n",
       "  </tbody>\n",
       "</table>\n",
       "</div>"
      ],
      "text/plain": [
       "                                        index  orig_curr_net_amount\n",
       "representative_key your_time                                       \n",
       "A001               2013-12-11 23:13:00      0                  6435\n",
       "A002               2013-12-11 23:13:00      4                 19789\n",
       "A003               2013-12-10 00:00:00      2                     0"
      ]
     },
     "execution_count": 80,
     "metadata": {},
     "output_type": "execute_result"
    }
   ],
   "source": [
    "df1.groupby(['representative_key',pd.Grouper(freq='min',key='your_time')]).sum()  \n"
   ]
  },
  {
   "cell_type": "markdown",
   "metadata": {},
   "source": [
    "## Change here for the count in the filter"
   ]
  },
  {
   "cell_type": "code",
   "execution_count": 81,
   "metadata": {
    "collapsed": false
   },
   "outputs": [],
   "source": [
    "newdf = df1.groupby(['representative_key',pd.Grouper(freq='min',key='your_time')]).filter(lambda x: x.count() > 1)\n"
   ]
  },
  {
   "cell_type": "code",
   "execution_count": 82,
   "metadata": {
    "collapsed": false
   },
   "outputs": [
    {
     "data": {
      "text/html": [
       "<div style=\"max-height:1000px;max-width:1500px;overflow:auto;\">\n",
       "<table border=\"1\" class=\"dataframe\">\n",
       "  <thead>\n",
       "    <tr style=\"text-align: right;\">\n",
       "      <th></th>\n",
       "      <th>index</th>\n",
       "      <th>order_date_time</th>\n",
       "      <th>orig_curr_net_amount</th>\n",
       "      <th>representative_key</th>\n",
       "      <th>your_time</th>\n",
       "    </tr>\n",
       "  </thead>\n",
       "  <tbody>\n",
       "    <tr>\n",
       "      <th>1</th>\n",
       "      <td> 1</td>\n",
       "      <td> 1.3868E+12</td>\n",
       "      <td>  4331</td>\n",
       "      <td> A002</td>\n",
       "      <td>2013-12-11 23:13:20</td>\n",
       "    </tr>\n",
       "    <tr>\n",
       "      <th>3</th>\n",
       "      <td> 3</td>\n",
       "      <td> 1.3868E+12</td>\n",
       "      <td> 15458</td>\n",
       "      <td> A002</td>\n",
       "      <td>2013-12-11 23:13:20</td>\n",
       "    </tr>\n",
       "  </tbody>\n",
       "</table>\n",
       "</div>"
      ],
      "text/plain": [
       "   index order_date_time  orig_curr_net_amount representative_key  \\\n",
       "1      1      1.3868E+12                  4331               A002   \n",
       "3      3      1.3868E+12                 15458               A002   \n",
       "\n",
       "            your_time  \n",
       "1 2013-12-11 23:13:20  \n",
       "3 2013-12-11 23:13:20  "
      ]
     },
     "execution_count": 82,
     "metadata": {},
     "output_type": "execute_result"
    }
   ],
   "source": [
    "newdf"
   ]
  },
  {
   "cell_type": "code",
   "execution_count": 83,
   "metadata": {
    "collapsed": false
   },
   "outputs": [
    {
     "data": {
      "text/html": [
       "<div style=\"max-height:1000px;max-width:1500px;overflow:auto;\">\n",
       "<table border=\"1\" class=\"dataframe\">\n",
       "  <thead>\n",
       "    <tr style=\"text-align: right;\">\n",
       "      <th></th>\n",
       "      <th>index</th>\n",
       "      <th>order_date_time</th>\n",
       "      <th>orig_curr_net_amount</th>\n",
       "      <th>representative_key</th>\n",
       "      <th>your_time</th>\n",
       "      <th>str_repkey</th>\n",
       "      <th>str_time</th>\n",
       "      <th>str_order</th>\n",
       "    </tr>\n",
       "  </thead>\n",
       "  <tbody>\n",
       "    <tr>\n",
       "      <th>1</th>\n",
       "      <td> 1</td>\n",
       "      <td> 1.3868E+12</td>\n",
       "      <td>  4331</td>\n",
       "      <td> A002</td>\n",
       "      <td>2013-12-11 23:13:20</td>\n",
       "      <td> A002</td>\n",
       "      <td> 1.3868E+12</td>\n",
       "      <td>  4331.0</td>\n",
       "    </tr>\n",
       "    <tr>\n",
       "      <th>3</th>\n",
       "      <td> 3</td>\n",
       "      <td> 1.3868E+12</td>\n",
       "      <td> 15458</td>\n",
       "      <td> A002</td>\n",
       "      <td>2013-12-11 23:13:20</td>\n",
       "      <td> A002</td>\n",
       "      <td> 1.3868E+12</td>\n",
       "      <td> 15458.0</td>\n",
       "    </tr>\n",
       "  </tbody>\n",
       "</table>\n",
       "</div>"
      ],
      "text/plain": [
       "   index order_date_time  orig_curr_net_amount representative_key  \\\n",
       "1      1      1.3868E+12                  4331               A002   \n",
       "3      3      1.3868E+12                 15458               A002   \n",
       "\n",
       "            your_time str_repkey    str_time str_order  \n",
       "1 2013-12-11 23:13:20       A002  1.3868E+12    4331.0  \n",
       "3 2013-12-11 23:13:20       A002  1.3868E+12   15458.0  "
      ]
     },
     "execution_count": 83,
     "metadata": {},
     "output_type": "execute_result"
    }
   ],
   "source": [
    "#change columns to string\n",
    "newdf['str_repkey'] = newdf.representative_key.astype(str)\n",
    "newdf['str_time'] = newdf.order_date_time.astype(str)\n",
    "newdf['str_order'] = newdf.orig_curr_net_amount.astype(str)\n",
    "\n",
    "newdf"
   ]
  },
  {
   "cell_type": "markdown",
   "metadata": {},
   "source": [
    "## Create a new column as a unique index of actor and time"
   ]
  },
  {
   "cell_type": "code",
   "execution_count": 84,
   "metadata": {
    "collapsed": false
   },
   "outputs": [],
   "source": [
    "# seperator is |\n",
    "newdf['concat'] = newdf[['str_repkey', 'str_time']].apply(lambda x: '|'.join(x), axis=1)"
   ]
  },
  {
   "cell_type": "code",
   "execution_count": 85,
   "metadata": {
    "collapsed": false
   },
   "outputs": [
    {
     "data": {
      "text/html": [
       "<div style=\"max-height:1000px;max-width:1500px;overflow:auto;\">\n",
       "<table border=\"1\" class=\"dataframe\">\n",
       "  <thead>\n",
       "    <tr style=\"text-align: right;\">\n",
       "      <th></th>\n",
       "      <th>index</th>\n",
       "      <th>order_date_time</th>\n",
       "      <th>orig_curr_net_amount</th>\n",
       "      <th>representative_key</th>\n",
       "      <th>your_time</th>\n",
       "      <th>str_repkey</th>\n",
       "      <th>str_time</th>\n",
       "      <th>str_order</th>\n",
       "      <th>concat</th>\n",
       "    </tr>\n",
       "  </thead>\n",
       "  <tbody>\n",
       "    <tr>\n",
       "      <th>1</th>\n",
       "      <td> 1</td>\n",
       "      <td> 1.3868E+12</td>\n",
       "      <td>  4331</td>\n",
       "      <td> A002</td>\n",
       "      <td>2013-12-11 23:13:20</td>\n",
       "      <td> A002</td>\n",
       "      <td> 1.3868E+12</td>\n",
       "      <td>  4331.0</td>\n",
       "      <td> A002|1.3868E+12</td>\n",
       "    </tr>\n",
       "    <tr>\n",
       "      <th>3</th>\n",
       "      <td> 3</td>\n",
       "      <td> 1.3868E+12</td>\n",
       "      <td> 15458</td>\n",
       "      <td> A002</td>\n",
       "      <td>2013-12-11 23:13:20</td>\n",
       "      <td> A002</td>\n",
       "      <td> 1.3868E+12</td>\n",
       "      <td> 15458.0</td>\n",
       "      <td> A002|1.3868E+12</td>\n",
       "    </tr>\n",
       "  </tbody>\n",
       "</table>\n",
       "</div>"
      ],
      "text/plain": [
       "   index order_date_time  orig_curr_net_amount representative_key  \\\n",
       "1      1      1.3868E+12                  4331               A002   \n",
       "3      3      1.3868E+12                 15458               A002   \n",
       "\n",
       "            your_time str_repkey    str_time str_order           concat  \n",
       "1 2013-12-11 23:13:20       A002  1.3868E+12    4331.0  A002|1.3868E+12  \n",
       "3 2013-12-11 23:13:20       A002  1.3868E+12   15458.0  A002|1.3868E+12  "
      ]
     },
     "execution_count": 85,
     "metadata": {},
     "output_type": "execute_result"
    }
   ],
   "source": [
    "newdf"
   ]
  },
  {
   "cell_type": "code",
   "execution_count": 91,
   "metadata": {
    "collapsed": false
   },
   "outputs": [
    {
     "data": {
      "text/html": [
       "<div style=\"max-height:1000px;max-width:1500px;overflow:auto;\">\n",
       "<table border=\"1\" class=\"dataframe\">\n",
       "  <thead>\n",
       "    <tr style=\"text-align: right;\">\n",
       "      <th></th>\n",
       "      <th>concat</th>\n",
       "      <th>your_time</th>\n",
       "      <th>str_order</th>\n",
       "    </tr>\n",
       "  </thead>\n",
       "  <tbody>\n",
       "    <tr>\n",
       "      <th>0</th>\n",
       "      <td> A002|1.3868E+12</td>\n",
       "      <td>2013-12-11 23:13:20</td>\n",
       "      <td> 4331.0|15458.0</td>\n",
       "    </tr>\n",
       "  </tbody>\n",
       "</table>\n",
       "</div>"
      ],
      "text/plain": [
       "            concat           your_time       str_order\n",
       "0  A002|1.3868E+12 2013-12-11 23:13:20  4331.0|15458.0"
      ]
     },
     "execution_count": 91,
     "metadata": {},
     "output_type": "execute_result"
    }
   ],
   "source": [
    "#seperator is |\n",
    "newdf.groupby(['concat', 'your_time'])['str_order'].apply('|'.join).reset_index()"
   ]
  },
  {
   "cell_type": "code",
   "execution_count": null,
   "metadata": {
    "collapsed": true
   },
   "outputs": [],
   "source": [
    " "
   ]
  },
  {
   "cell_type": "code",
   "execution_count": null,
   "metadata": {
    "collapsed": true
   },
   "outputs": [],
   "source": []
  }
 ],
 "metadata": {
  "kernelspec": {
   "display_name": "Python 2",
   "language": "python",
   "name": "python2"
  },
  "language_info": {
   "codemirror_mode": {
    "name": "ipython",
    "version": 2
   },
   "file_extension": ".py",
   "mimetype": "text/x-python",
   "name": "python",
   "nbconvert_exporter": "python",
   "pygments_lexer": "ipython2",
   "version": "2.7.12"
  }
 },
 "nbformat": 4,
 "nbformat_minor": 1
}
